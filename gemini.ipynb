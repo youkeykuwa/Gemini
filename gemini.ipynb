{
  "nbformat": 4,
  "nbformat_minor": 0,
  "metadata": {
    "colab": {
      "provenance": [],
      "authorship_tag": "ABX9TyPFms3B3CwastFVsfdlJUs2",
      "include_colab_link": true
    },
    "kernelspec": {
      "name": "python3",
      "display_name": "Python 3"
    },
    "language_info": {
      "name": "python"
    }
  },
  "cells": [
    {
      "cell_type": "markdown",
      "metadata": {
        "id": "view-in-github",
        "colab_type": "text"
      },
      "source": [
        "<a href=\"https://colab.research.google.com/github/youkeykuwa/Gemini/blob/main/gemini.ipynb\" target=\"_parent\"><img src=\"https://colab.research.google.com/assets/colab-badge.svg\" alt=\"Open In Colab\"/></a>"
      ]
    },
    {
      "cell_type": "code",
      "source": [
        "!pip install -q -U google-generativeai"
      ],
      "metadata": {
        "id": "O04pIyikKOut"
      },
      "execution_count": 29,
      "outputs": []
    },
    {
      "cell_type": "code",
      "execution_count": 40,
      "metadata": {
        "colab": {
          "base_uri": "https://localhost:8080/",
          "height": 311
        },
        "id": "ZFLbsmmnEH8x",
        "outputId": "bb2823f2-d08d-4d3d-a9e2-827e7b9f5d2b"
      },
      "outputs": [
        {
          "output_type": "execute_result",
          "data": {
            "text/plain": [
              "<IPython.core.display.Markdown object>"
            ],
            "text/markdown": "> 1. 社会的平等と信頼：フィンランドは、世界で最も平等な国であり、国民は相互に高いレベルの信頼を有しています。このため、強力な社会的セーフティネットが構築されており、国民は経済的、社会的に安定した生活を送ることができます。\n> \n> 2. 教育と健康：フィンランドは、世界有数の実績を持つ教育と医療システムを有しています。国民は、高品質の教育や医療サービスに平等にアクセスすることができ、これにより、国民の健康とウェルビーイングが向上しています。\n> \n> 3. 自然とのつながり：フィンランドは、広大な自然に囲まれており、国民は自然と密接につながった生活を送っています。このため、国民はストレスを軽減し、ウェルビーイングを高めることができます。\n> \n> 4.ワークライフバランス：フィンランドは、ワークライフバランスの取れた国であり、国民は、仕事や家庭の生活を両立させることができます。これにより、国民は、より充実した生活を送ることができます。\n> \n> 5. 統治：フィンランドは、統治の質が高い国であり、国民は政府や公共機関への信頼を持っています。これにより、国民は、より安心した生活を送ることができます。"
          },
          "metadata": {},
          "execution_count": 40
        }
      ],
      "source": [
        "import pathlib\n",
        "import textwrap\n",
        "import google.generativeai as genai\n",
        "from google.colab import userdata\n",
        "from IPython.display import display\n",
        "from IPython.display import Markdown\n",
        "\n",
        "# Google Cloud PlatformのAPIキーを環境変数から取得する\n",
        "# Or use `os.getenv('GOOGLE_API_KEY')` to fetch an environment variable.\n",
        "GOOGLE_API_KEY=userdata.get('GOOGLE_API_KEY')\n",
        "genai.configure(api_key=GOOGLE_API_KEY)\n",
        "api_key = userdata.get(\"GOOGLE_API_KEY\")\n",
        "\n",
        "# Markdown出力\n",
        "def to_markdown(text):\n",
        "  text = text.replace('•', '  *')\n",
        "  return Markdown(textwrap.indent(text, '> ', predicate=lambda _: True))\n",
        "\n",
        "\n",
        "# モデルの準備\n",
        "model = genai.GenerativeModel('gemini-pro')\n",
        "\n",
        "# 推論の実行\n",
        "response = model.generate_content(\"なぜフィンランドは幸せなのか？\")\n",
        "to_markdown(response.text)\n"
      ]
    }
  ]
}