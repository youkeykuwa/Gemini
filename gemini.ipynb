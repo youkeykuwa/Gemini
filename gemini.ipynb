{
  "nbformat": 4,
  "nbformat_minor": 0,
  "metadata": {
    "colab": {
      "provenance": [],
      "authorship_tag": "ABX9TyPFms3B3CwastFVsfdlJUs2",
      "include_colab_link": true
    },
    "kernelspec": {
      "name": "python3",
      "display_name": "Python 3"
    },
    "language_info": {
      "name": "python"
    }
  },
  "cells": [
    {
      "cell_type": "markdown",
      "metadata": {
        "id": "view-in-github",
        "colab_type": "text"
      },
      "source": [
        "<a href=\"https://colab.research.google.com/github/youkeykuwa/Gemini/blob/main/gemini.ipynb\" target=\"_parent\"><img src=\"https://colab.research.google.com/assets/colab-badge.svg\" alt=\"Open In Colab\"/></a>"
      ]
    },
    {
      "cell_type": "code",
      "source": [
        "!pip install -q -U google-generativeai"
      ],
      "metadata": {
        "id": "O04pIyikKOut"
      },
      "execution_count": 29,
      "outputs": []
    },
    {
      "cell_type": "code",
      "execution_count": 39,
      "metadata": {
        "colab": {
          "base_uri": "https://localhost:8080/",
          "height": 329
        },
        "id": "ZFLbsmmnEH8x",
        "outputId": "bf3e5f7d-5246-4673-c3ad-ab19b9f4a27c"
      },
      "outputs": [
        {
          "output_type": "execute_result",
          "data": {
            "text/plain": [
              "<IPython.core.display.Markdown object>"
            ],
            "text/markdown": "> 国立市役所とブラックロックは、それぞれ異なる特徴を持つ2つの職場です。国立市役所では、地域社会のために働くことができ、安定した収入を得ることができます。一方、ブラックロックでは、金融業界の最前線で働くことができ、高額の報酬を得ることができます。\n> \n> どちらの職場も一長一短があり、どちらが自分に合っているかは、個人の価値観や目標によって異なります。\n> \n> もし、地域社会のために貢献したいのであれば、国立市役所で働くのが良いでしょう。国立市役所では、国民に直接サービスを提供する仕事をすることができます。また、国立市役所は、比較的安定した職場であり、退職金制度や健康保険などの福利厚生も充実しています。\n> \n> もし、金融業界の最前線で働きたいのであれば、ブラックロックで働くのが良いでしょう。ブラックロックは、世界最大の投資運用会社であり、金融業界で大きな影響力を持っています。ブラックロックでは、世界中のお客様のために投資運用業務を行うことができます。また、ブラックロックは、高額の報酬を支払うことで知られており、ボーナスやストックオプションなどのインセンティブ制度も充実しています。\n> \n> 最終的に、国立市役所とブラックロックのどちらで働くかは、個人の価値観や目標によって異なります。自分が何を重視しているのか、何を達成したいのかを明確にした上で、どちらの職場が自分に合っているのかを慎重に検討してください。"
          },
          "metadata": {},
          "execution_count": 39
        }
      ],
      "source": [
        "import pathlib\n",
        "import textwrap\n",
        "import google.generativeai as genai\n",
        "from google.colab import userdata\n",
        "from IPython.display import display\n",
        "from IPython.display import Markdown\n",
        "\n",
        "# Google Cloud PlatformのAPIキーを環境変数から取得する\n",
        "# Or use `os.getenv('GOOGLE_API_KEY')` to fetch an environment variable.\n",
        "GOOGLE_API_KEY=userdata.get('GOOGLE_API_KEY')\n",
        "genai.configure(api_key=GOOGLE_API_KEY)\n",
        "api_key = userdata.get(\"GOOGLE_API_KEY\")\n",
        "\n",
        "# Markdown出力\n",
        "def to_markdown(text):\n",
        "  text = text.replace('•', '  *')\n",
        "  return Markdown(textwrap.indent(text, '> ', predicate=lambda _: True))\n",
        "\n",
        "\n",
        "# モデルの準備\n",
        "model = genai.GenerativeModel('gemini-pro')\n",
        "\n",
        "# 推論の実行\n",
        "response = model.generate_content(\"なぜフィンランドは幸せなのか？\")\n",
        "to_markdown(response.text)\n"
      ]
    }
  ]
}